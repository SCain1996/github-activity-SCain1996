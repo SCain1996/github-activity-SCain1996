{
  "nbformat": 4,
  "nbformat_minor": 0,
  "metadata": {
    "colab": {
      "provenance": [],
      "gpuType": "T4",
      "authorship_tag": "ABX9TyNCcQIw3HI9gfoHE1pj7qCJ",
      "include_colab_link": true
    },
    "kernelspec": {
      "name": "python3",
      "display_name": "Python 3"
    },
    "language_info": {
      "name": "python"
    },
    "accelerator": "GPU"
  },
  "cells": [
    {
      "cell_type": "markdown",
      "metadata": {
        "id": "view-in-github",
        "colab_type": "text"
      },
      "source": [
        "<a href=\"https://colab.research.google.com/github/SCain1996/github-activity-SCain1996/blob/main/Copy_of_assignment.ipynb\" target=\"_parent\"><img src=\"https://colab.research.google.com/assets/colab-badge.svg\" alt=\"Open In Colab\"/></a>"
      ]
    },
    {
      "cell_type": "markdown",
      "source": [
        "Connecting to google drive so that the images can be processed"
      ],
      "metadata": {
        "id": "1jenK8n3pFYG"
      }
    },
    {
      "cell_type": "code",
      "source": [],
      "metadata": {
        "id": "DwPssddW4l9h"
      },
      "execution_count": null,
      "outputs": []
    },
    {
      "cell_type": "code",
      "source": [],
      "metadata": {
        "id": "RLK5P3Ji4mRz"
      },
      "execution_count": null,
      "outputs": []
    },
    {
      "cell_type": "code",
      "source": [
        "import pathlib\n",
        "import tensorflow as tf\n",
        "import matplotlib.pyplot as plt\n",
        "import numpy as np\n",
        "import pandas as pd\n",
        "import os\n",
        "from glob import glob\n",
        "import PIL\n",
        "from PIL import Image\n",
        "from tensorflow import keras\n",
        "from tensorflow.keras import layers\n",
        "from tensorflow.keras.models import Sequential\n",
        "from tensorflow.python.keras.layers import Dense, Dropout, Activation, Flatten, Conv2D, MaxPool2D\n",
        "from tensorflow.keras.layers.experimental.preprocessing import Rescaling\n",
        "from keras.preprocessing.image import ImageDataGenerator\n",
        "from keras.optimizers import Adam\n",
        "from keras.callbacks import ReduceLROnPlateau\n"
      ],
      "metadata": {
        "id": "ydPCvkn99KtU"
      },
      "execution_count": null,
      "outputs": []
    },
    {
      "cell_type": "code",
      "source": [
        "from google.colab import drive\n",
        "drive.mount('/content/drive')"
      ],
      "metadata": {
        "id": "IsVo_fOyJm6w",
        "colab": {
          "base_uri": "https://localhost:8080/"
        },
        "outputId": "bb72cfc8-f7ab-4558-91cf-dc5729bec3a5"
      },
      "execution_count": null,
      "outputs": [
        {
          "output_type": "stream",
          "name": "stdout",
          "text": [
            "Mounted at /content/drive\n"
          ]
        }
      ]
    },
    {
      "cell_type": "code",
      "source": [
        "root_path = '/content/drive/MyDrive/downloads/ISIC-images'\n",
        "data_dir_train = pathlib.Path(root_path + '/Train')\n",
        "data_dir_test = pathlib.Path(root_path + '/Test')"
      ],
      "metadata": {
        "id": "jnn1hjHlcaWp"
      },
      "execution_count": null,
      "outputs": []
    },
    {
      "cell_type": "code",
      "source": [
        "image_count_train = len(list(data_dir_train.glob('*/*.JPG')))\n",
        "print(image_count_train)\n",
        "image_count_test = len(list(data_dir_test.glob('*/*.JPG')))\n",
        "print(image_count_test)"
      ],
      "metadata": {
        "colab": {
          "base_uri": "https://localhost:8080/"
        },
        "id": "g28goW7kbWoO",
        "outputId": "661d59f6-851a-4446-f4f8-a0e5516964e1"
      },
      "execution_count": null,
      "outputs": [
        {
          "output_type": "stream",
          "name": "stdout",
          "text": [
            "2000\n",
            "1000\n"
          ]
        }
      ]
    },
    {
      "cell_type": "markdown",
      "source": [
        "Processing Data"
      ],
      "metadata": {
        "id": "ZoP_lFJcpVkW"
      }
    },
    {
      "cell_type": "code",
      "source": [
        "root_path = '/content/drive/MyDrive/downloads/ISIC-images'\n",
        "data_dir_train = pathlib.Path(root_path + '/Train/Train-Images')\n",
        "data_dir_test = pathlib.Path(root_path + '/Test/Test-Images')"
      ],
      "metadata": {
        "id": "lztUN9dXvXkb"
      },
      "execution_count": null,
      "outputs": []
    },
    {
      "cell_type": "code",
      "source": [
        "train_metadata = pd.read_csv(data_dir_train / 'metadata.csv')\n",
        "test_metadata = pd.read_csv(data_dir_test / 'metadata1.csv')"
      ],
      "metadata": {
        "id": "rNtmrMPqvYyC"
      },
      "execution_count": null,
      "outputs": []
    },
    {
      "cell_type": "code",
      "source": [
        "train_images = []\n",
        "train_labels = []\n",
        "test_images = []\n",
        "test_labels = []"
      ],
      "metadata": {
        "id": "8At5eg7DwAGf"
      },
      "execution_count": null,
      "outputs": []
    },
    {
      "cell_type": "code",
      "source": [
        "def load_images_and_labels(data_dir, metadata, image_list, label_list, desired_width, desired_height):\n",
        "    for index, row in metadata.iterrows():\n",
        "        # Read image file\n",
        "        image_path = os.path.join(data_dir, row['isic_id'] + '.JPG')\n",
        "        image = Image.open(image_path)\n",
        "        # Resize image if needed\n",
        "        image = image.resize((desired_width, desired_height))\n",
        "        # Convert image to numpy array\n",
        "        image_array = np.array(image)\n",
        "        image_list.append(image_array)\n",
        "        # Associate label with image\n",
        "        label_list.append(row['benign_malignant'])\n"
      ],
      "metadata": {
        "id": "QmWK1Yg_wGra"
      },
      "execution_count": null,
      "outputs": []
    },
    {
      "cell_type": "code",
      "source": [
        "# Desired width and height for resizing images\n",
        "desired_width = 50\n",
        "desired_height = 50"
      ],
      "metadata": {
        "id": "mYvs7yaq4hWD"
      },
      "execution_count": null,
      "outputs": []
    },
    {
      "cell_type": "code",
      "source": [
        "load_images_and_labels(data_dir_train, train_metadata, train_images, train_labels, desired_width, desired_height)"
      ],
      "metadata": {
        "id": "g7TXkGBGwmqF"
      },
      "execution_count": null,
      "outputs": []
    },
    {
      "cell_type": "code",
      "source": [
        "load_images_and_labels(data_dir_test, test_metadata, test_images, test_labels, desired_width, desired_height)"
      ],
      "metadata": {
        "id": "0P4l15Gx1znY"
      },
      "execution_count": null,
      "outputs": []
    },
    {
      "cell_type": "code",
      "source": [
        "train_images = np.array(train_images)\n",
        "train_labels = np.array(train_labels)\n",
        "test_images = np.array(test_images)\n",
        "test_labels = np.array(test_labels)"
      ],
      "metadata": {
        "id": "ejNWJiYt8vLv"
      },
      "execution_count": null,
      "outputs": []
    },
    {
      "cell_type": "code",
      "source": [
        "print(\"Train images shape:\", train_images.shape)\n",
        "print(\"Train labels shape:\", train_labels.shape)\n",
        "print(\"Test images shape:\", test_images.shape)\n",
        "print(\"Test labels shape:\", test_labels.shape)"
      ],
      "metadata": {
        "colab": {
          "base_uri": "https://localhost:8080/"
        },
        "id": "HjPwjXi68zTh",
        "outputId": "914a0fef-a728-4d9c-947d-aa075e1bbe52"
      },
      "execution_count": null,
      "outputs": [
        {
          "output_type": "stream",
          "name": "stdout",
          "text": [
            "Train images shape: (2000, 50, 50, 3)\n",
            "Train labels shape: (2000,)\n",
            "Test images shape: (1000, 50, 50, 3)\n",
            "Test labels shape: (1000,)\n"
          ]
        }
      ]
    },
    {
      "cell_type": "markdown",
      "source": [
        "Balancing the data"
      ],
      "metadata": {
        "id": "z8id_y_Opayu"
      }
    },
    {
      "cell_type": "code",
      "source": [
        "from sklearn.model_selection import train_test_split\n",
        "from imblearn.over_sampling import RandomOverSampler\n",
        "from tensorflow.keras.models import Sequential\n",
        "from tensorflow.keras.layers import Conv2D, MaxPooling2D, Flatten, Dense"
      ],
      "metadata": {
        "id": "kx7qjwMH-djt"
      },
      "execution_count": null,
      "outputs": []
    },
    {
      "cell_type": "code",
      "source": [
        "oversampler = RandomOverSampler()\n",
        "balanced_train_images, balanced_train_labels = oversampler.fit_resample(train_images.reshape(-1, 50 * 50 * 3), train_labels)"
      ],
      "metadata": {
        "id": "CiWHRD7g-ku-"
      },
      "execution_count": null,
      "outputs": []
    },
    {
      "cell_type": "code",
      "source": [
        "balanced_train_images = balanced_train_images.reshape(-1, 50, 50, 3)"
      ],
      "metadata": {
        "id": "z5NCNkDn-pfL"
      },
      "execution_count": null,
      "outputs": []
    },
    {
      "cell_type": "code",
      "source": [
        "X_train, X_test, y_train, y_test = train_test_split(balanced_train_images, balanced_train_labels, test_size=0.2, random_state=42)"
      ],
      "metadata": {
        "id": "PB4Y_kPb-s5q"
      },
      "execution_count": null,
      "outputs": []
    },
    {
      "cell_type": "code",
      "source": [
        "label_mapping = {\"benign\": 0, \"malignant\": 1}\n"
      ],
      "metadata": {
        "id": "OaEIvksrAew9"
      },
      "execution_count": null,
      "outputs": []
    },
    {
      "cell_type": "code",
      "source": [
        "def map_label(label):\n",
        "    return label_mapping.get(label, -1)  # Return -1 for unknown labels"
      ],
      "metadata": {
        "id": "8f7weYlKCq3J"
      },
      "execution_count": null,
      "outputs": []
    },
    {
      "cell_type": "code",
      "source": [
        "test_labels = np.array([map_label(label) for label in test_labels])\n"
      ],
      "metadata": {
        "id": "hxEPqTIPAt0P"
      },
      "execution_count": null,
      "outputs": []
    },
    {
      "cell_type": "code",
      "source": [
        "y_train = np.array([map_label(label) for label in y_train])\n"
      ],
      "metadata": {
        "id": "YnxnVijjA4Qu"
      },
      "execution_count": null,
      "outputs": []
    },
    {
      "cell_type": "code",
      "source": [
        "y_test = np.array([map_label(label) for label in y_test])\n"
      ],
      "metadata": {
        "id": "iw9Hz4LxAhGs"
      },
      "execution_count": null,
      "outputs": []
    },
    {
      "cell_type": "code",
      "source": [
        "print(\"Updated y_train dtype:\", y_train.dtype)\n",
        "print(\"Updated y_test dtype:\", y_test.dtype)\n",
        "print(\"Updated y_train shape:\", y_train.shape)\n",
        "print(\"Updated y_test shape:\", y_test.shape)\n"
      ],
      "metadata": {
        "colab": {
          "base_uri": "https://localhost:8080/"
        },
        "id": "SzF4kgJ6A_oc",
        "outputId": "e28f4495-95fe-4a95-fb25-565d579756e7"
      },
      "execution_count": null,
      "outputs": [
        {
          "output_type": "stream",
          "name": "stdout",
          "text": [
            "Updated y_train dtype: int64\n",
            "Updated y_test dtype: int64\n",
            "Updated y_train shape: (5184,)\n",
            "Updated y_test shape: (1296,)\n"
          ]
        }
      ]
    },
    {
      "cell_type": "code",
      "source": [
        "model = Sequential([\n",
        "    Conv2D(32, (3, 3), activation='relu', input_shape=(50, 50, 3)),\n",
        "    MaxPooling2D((2, 2)),\n",
        "    Conv2D(64, (3, 3), activation='relu'),\n",
        "    MaxPooling2D((2, 2)),\n",
        "    Flatten(),\n",
        "    Dense(64, activation='relu'),\n",
        "    Dense(1, activation='sigmoid')  # Sigmoid activation for binary classification\n",
        "])"
      ],
      "metadata": {
        "id": "oHfT9n1m-xMo"
      },
      "execution_count": null,
      "outputs": []
    },
    {
      "cell_type": "code",
      "source": [
        "model.compile(optimizer='adam', loss='binary_crossentropy', metrics=['accuracy'])\n"
      ],
      "metadata": {
        "id": "SnVpR81L_Pwa"
      },
      "execution_count": null,
      "outputs": []
    },
    {
      "cell_type": "code",
      "source": [
        "test_labels = test_labels.astype('int64')\n"
      ],
      "metadata": {
        "id": "8dkHPgM5Cgzs"
      },
      "execution_count": null,
      "outputs": []
    },
    {
      "cell_type": "code",
      "source": [
        "print(\"X_train dtype:\", X_train.dtype)\n",
        "print(\"y_train dtype:\", y_train.dtype)\n",
        "print(\"X_test dtype:\", X_test.dtype)\n",
        "print(\"y_test dtype:\", y_test.dtype)\n",
        "\n",
        "print(\"X_train shape:\", X_train.shape)\n",
        "print(\"y_train shape:\", y_train.shape)\n",
        "print(\"X_test shape:\", X_test.shape)\n",
        "print(\"y_test shape:\", y_test.shape)\n"
      ],
      "metadata": {
        "colab": {
          "base_uri": "https://localhost:8080/"
        },
        "id": "SfmVa_CI_zxq",
        "outputId": "d2e6fb0e-0f3f-40e5-dce7-45bfed25617e"
      },
      "execution_count": null,
      "outputs": [
        {
          "output_type": "stream",
          "name": "stdout",
          "text": [
            "X_train dtype: uint8\n",
            "y_train dtype: int64\n",
            "X_test dtype: uint8\n",
            "y_test dtype: int64\n",
            "X_train shape: (5184, 50, 50, 3)\n",
            "y_train shape: (5184,)\n",
            "X_test shape: (1296, 50, 50, 3)\n",
            "y_test shape: (1296,)\n"
          ]
        }
      ]
    },
    {
      "cell_type": "code",
      "source": [
        "model.summary()\n"
      ],
      "metadata": {
        "colab": {
          "base_uri": "https://localhost:8080/"
        },
        "id": "0QtH3WCt_2vf",
        "outputId": "4c5046c2-2b46-4dac-e442-fe3cc816827b"
      },
      "execution_count": null,
      "outputs": [
        {
          "output_type": "stream",
          "name": "stdout",
          "text": [
            "Model: \"sequential\"\n",
            "_________________________________________________________________\n",
            " Layer (type)                Output Shape              Param #   \n",
            "=================================================================\n",
            " conv2d (Conv2D)             (None, 48, 48, 32)        896       \n",
            "                                                                 \n",
            " max_pooling2d (MaxPooling2  (None, 24, 24, 32)        0         \n",
            " D)                                                              \n",
            "                                                                 \n",
            " conv2d_1 (Conv2D)           (None, 22, 22, 64)        18496     \n",
            "                                                                 \n",
            " max_pooling2d_1 (MaxPoolin  (None, 11, 11, 64)        0         \n",
            " g2D)                                                            \n",
            "                                                                 \n",
            " flatten (Flatten)           (None, 7744)              0         \n",
            "                                                                 \n",
            " dense (Dense)               (None, 64)                495680    \n",
            "                                                                 \n",
            " dense_1 (Dense)             (None, 1)                 65        \n",
            "                                                                 \n",
            "=================================================================\n",
            "Total params: 515137 (1.97 MB)\n",
            "Trainable params: 515137 (1.97 MB)\n",
            "Non-trainable params: 0 (0.00 Byte)\n",
            "_________________________________________________________________\n"
          ]
        }
      ]
    },
    {
      "cell_type": "code",
      "source": [
        "X_train_normalized = X_train.astype('float32') / 255.0\n",
        "X_test_normalized = X_test.astype('float32') / 255.0\n"
      ],
      "metadata": {
        "id": "Lnze18T7_7_c"
      },
      "execution_count": null,
      "outputs": []
    },
    {
      "cell_type": "code",
      "source": [
        "model.compile(optimizer='adam', loss='binary_crossentropy', metrics=['accuracy'])\n"
      ],
      "metadata": {
        "id": "EiaE0Nhu_9Oq"
      },
      "execution_count": null,
      "outputs": []
    },
    {
      "cell_type": "code",
      "source": [
        "model.fit(X_train_normalized, y_train, epochs=10, batch_size=32, validation_data=(X_test_normalized, y_test))\n"
      ],
      "metadata": {
        "colab": {
          "base_uri": "https://localhost:8080/"
        },
        "id": "eq2zcpA1__1g",
        "outputId": "f2e5140e-8af6-47c7-eab7-a8247978a178"
      },
      "execution_count": null,
      "outputs": [
        {
          "output_type": "stream",
          "name": "stdout",
          "text": [
            "Epoch 1/10\n",
            "162/162 [==============================] - 24s 137ms/step - loss: -39366.1484 - accuracy: 0.2469 - val_loss: -239655.9531 - val_accuracy: 0.2585\n",
            "Epoch 2/10\n",
            "162/162 [==============================] - 18s 110ms/step - loss: -1993548.0000 - accuracy: 0.2479 - val_loss: -6738249.5000 - val_accuracy: 0.2585\n",
            "Epoch 3/10\n",
            "162/162 [==============================] - 18s 112ms/step - loss: -17446974.0000 - accuracy: 0.2479 - val_loss: -41354100.0000 - val_accuracy: 0.2585\n",
            "Epoch 4/10\n",
            "162/162 [==============================] - 18s 110ms/step - loss: -73612752.0000 - accuracy: 0.2479 - val_loss: -140927072.0000 - val_accuracy: 0.2585\n",
            "Epoch 5/10\n",
            "162/162 [==============================] - 24s 150ms/step - loss: -203919392.0000 - accuracy: 0.2479 - val_loss: -349175360.0000 - val_accuracy: 0.2585\n",
            "Epoch 6/10\n",
            "162/162 [==============================] - 18s 112ms/step - loss: -447853088.0000 - accuracy: 0.2479 - val_loss: -702969472.0000 - val_accuracy: 0.2585\n",
            "Epoch 7/10\n",
            "162/162 [==============================] - 18s 112ms/step - loss: -838576640.0000 - accuracy: 0.2479 - val_loss: -1245474048.0000 - val_accuracy: 0.2585\n",
            "Epoch 8/10\n",
            "162/162 [==============================] - 18s 114ms/step - loss: -1409418624.0000 - accuracy: 0.2479 - val_loss: -2006155520.0000 - val_accuracy: 0.2585\n",
            "Epoch 9/10\n",
            "162/162 [==============================] - 20s 123ms/step - loss: -2199582464.0000 - accuracy: 0.2479 - val_loss: -3062753792.0000 - val_accuracy: 0.2585\n",
            "Epoch 10/10\n",
            "162/162 [==============================] - 20s 124ms/step - loss: -3258523392.0000 - accuracy: 0.2479 - val_loss: -4450054656.0000 - val_accuracy: 0.2585\n"
          ]
        },
        {
          "output_type": "execute_result",
          "data": {
            "text/plain": [
              "<keras.src.callbacks.History at 0x7af898227cd0>"
            ]
          },
          "metadata": {},
          "execution_count": 31
        }
      ]
    },
    {
      "cell_type": "code",
      "source": [
        "\n",
        "evaluation_results = model.evaluate(X_test_normalized, y_test)\n",
        "print(\"Test Loss:\", evaluation_results[0])\n",
        "print(\"Test Accuracy:\", evaluation_results[1])\n"
      ],
      "metadata": {
        "colab": {
          "base_uri": "https://localhost:8080/"
        },
        "id": "n0lr0t6JBXmM",
        "outputId": "0d512254-0dd1-4104-ce95-ef6fcc06f4ab"
      },
      "execution_count": null,
      "outputs": [
        {
          "output_type": "stream",
          "name": "stdout",
          "text": [
            "41/41 [==============================] - 1s 25ms/step - loss: -4450054656.0000 - accuracy: 0.2585\n",
            "Test Loss: -4450054656.0\n",
            "Test Accuracy: 0.25848764181137085\n"
          ]
        }
      ]
    },
    {
      "cell_type": "markdown",
      "source": [
        "Evaluate for other metrics"
      ],
      "metadata": {
        "id": "GcY7xkbNIlqq"
      }
    },
    {
      "cell_type": "code",
      "source": [
        "from sklearn.metrics import classification_report, roc_auc_score, roc_curve\n",
        "\n",
        "# Evaluate the model on the test dataset\n",
        "evaluation_results = model.evaluate(X_test_normalized, y_test)\n",
        "print(\"Test Loss:\", evaluation_results[0])\n",
        "print(\"Test Accuracy:\", evaluation_results[1])\n",
        "\n",
        "y_pred_proba = model.predict(X_test_normalized)\n",
        "\n",
        "y_pred = np.where(y_pred_proba > 0.5, 1, 0)\n",
        "\n",
        "print(\"\\nClassification Report:\")\n",
        "print(classification_report(y_test, y_pred))\n",
        "\n",
        "\n"
      ],
      "metadata": {
        "id": "5qJHbFA7ItQ2",
        "outputId": "54fb050c-04ad-4a59-e1e5-25cfb54581e8",
        "colab": {
          "base_uri": "https://localhost:8080/"
        }
      },
      "execution_count": null,
      "outputs": [
        {
          "output_type": "stream",
          "name": "stdout",
          "text": [
            "41/41 [==============================] - 2s 43ms/step - loss: -4450054656.0000 - accuracy: 0.2585\n",
            "Test Loss: -4450054656.0\n",
            "Test Accuracy: 0.25848764181137085\n",
            "41/41 [==============================] - 2s 45ms/step\n",
            "\n",
            "Classification Report:\n",
            "              precision    recall  f1-score   support\n",
            "\n",
            "          -1       0.00      0.00      0.00       654\n",
            "           0       0.26      1.00      0.41       335\n",
            "           1       0.00      0.00      0.00       307\n",
            "\n",
            "    accuracy                           0.26      1296\n",
            "   macro avg       0.09      0.33      0.14      1296\n",
            "weighted avg       0.07      0.26      0.11      1296\n",
            "\n"
          ]
        },
        {
          "output_type": "stream",
          "name": "stderr",
          "text": [
            "/usr/local/lib/python3.10/dist-packages/sklearn/metrics/_classification.py:1344: UndefinedMetricWarning: Precision and F-score are ill-defined and being set to 0.0 in labels with no predicted samples. Use `zero_division` parameter to control this behavior.\n",
            "  _warn_prf(average, modifier, msg_start, len(result))\n",
            "/usr/local/lib/python3.10/dist-packages/sklearn/metrics/_classification.py:1344: UndefinedMetricWarning: Precision and F-score are ill-defined and being set to 0.0 in labels with no predicted samples. Use `zero_division` parameter to control this behavior.\n",
            "  _warn_prf(average, modifier, msg_start, len(result))\n",
            "/usr/local/lib/python3.10/dist-packages/sklearn/metrics/_classification.py:1344: UndefinedMetricWarning: Precision and F-score are ill-defined and being set to 0.0 in labels with no predicted samples. Use `zero_division` parameter to control this behavior.\n",
            "  _warn_prf(average, modifier, msg_start, len(result))\n"
          ]
        }
      ]
    },
    {
      "cell_type": "markdown",
      "source": [
        "Visualise Data"
      ],
      "metadata": {
        "id": "PnCNH6MyH2aQ"
      }
    },
    {
      "cell_type": "code",
      "source": [
        "import matplotlib.pyplot as plt\n",
        "\n",
        "# Train the model\n",
        "history = model.fit(X_train_normalized, y_train, epochs=10, batch_size=32, validation_data=(X_test_normalized, y_test))\n",
        "\n",
        "# Evaluate the model on the test dataset\n",
        "evaluation_results = model.evaluate(X_test_normalized, y_test)\n",
        "print(\"Test Loss:\", evaluation_results[0])\n",
        "print(\"Test Accuracy:\", evaluation_results[1])\n",
        "\n",
        "# Plot training history\n",
        "plt.plot(history.history['loss'], label='Training Loss')\n",
        "plt.plot(history.history['val_loss'], label='Validation Loss')\n",
        "plt.title('Training and Validation Loss')\n",
        "plt.xlabel('Epochs')\n",
        "plt.ylabel('Loss')\n",
        "plt.legend()\n",
        "plt.show()\n",
        "\n",
        "plt.plot(history.history['accuracy'], label='Training Accuracy')\n",
        "plt.plot(history.history['val_accuracy'], label='Validation Accuracy')\n",
        "plt.title('Training and Validation Accuracy')\n",
        "plt.xlabel('Epochs')\n",
        "plt.ylabel('Accuracy')\n",
        "plt.legend()\n",
        "plt.show()\n"
      ],
      "metadata": {
        "id": "Vtt0sU-WH5We",
        "outputId": "4b03991a-006c-4c7e-ae20-d1ece126e871",
        "colab": {
          "base_uri": "https://localhost:8080/",
          "height": 1000
        }
      },
      "execution_count": null,
      "outputs": [
        {
          "output_type": "stream",
          "name": "stdout",
          "text": [
            "Epoch 1/10\n",
            "162/162 [==============================] - 17s 107ms/step - loss: -4634852864.0000 - accuracy: 0.2479 - val_loss: -6197852160.0000 - val_accuracy: 0.2585\n",
            "Epoch 2/10\n",
            "162/162 [==============================] - 17s 108ms/step - loss: -6371383808.0000 - accuracy: 0.2479 - val_loss: -8416544768.0000 - val_accuracy: 0.2585\n",
            "Epoch 3/10\n",
            "162/162 [==============================] - 17s 107ms/step - loss: -8552379392.0000 - accuracy: 0.2479 - val_loss: -11223374848.0000 - val_accuracy: 0.2585\n",
            "Epoch 4/10\n",
            "162/162 [==============================] - 19s 119ms/step - loss: -11211827200.0000 - accuracy: 0.2479 - val_loss: -14422685696.0000 - val_accuracy: 0.2585\n",
            "Epoch 5/10\n",
            "162/162 [==============================] - 17s 107ms/step - loss: -14364662784.0000 - accuracy: 0.2479 - val_loss: -18345723904.0000 - val_accuracy: 0.2585\n",
            "Epoch 6/10\n",
            "162/162 [==============================] - 17s 105ms/step - loss: -18066049024.0000 - accuracy: 0.2479 - val_loss: -22955876352.0000 - val_accuracy: 0.2585\n",
            "Epoch 7/10\n",
            "162/162 [==============================] - 17s 107ms/step - loss: -22348982272.0000 - accuracy: 0.2479 - val_loss: -28216645632.0000 - val_accuracy: 0.2585\n",
            "Epoch 8/10\n",
            "162/162 [==============================] - 17s 108ms/step - loss: -27269195776.0000 - accuracy: 0.2479 - val_loss: -34032734208.0000 - val_accuracy: 0.2585\n",
            "Epoch 9/10\n",
            "162/162 [==============================] - 17s 107ms/step - loss: -32804493312.0000 - accuracy: 0.2479 - val_loss: -40794054656.0000 - val_accuracy: 0.2585\n",
            "Epoch 10/10\n",
            "162/162 [==============================] - 19s 115ms/step - loss: -39059419136.0000 - accuracy: 0.2479 - val_loss: -48335585280.0000 - val_accuracy: 0.2585\n",
            "41/41 [==============================] - 2s 45ms/step - loss: -48335585280.0000 - accuracy: 0.2585\n",
            "Test Loss: -48335585280.0\n",
            "Test Accuracy: 0.25848764181137085\n"
          ]
        },
        {
          "output_type": "display_data",
          "data": {
            "text/plain": [
              "<Figure size 640x480 with 1 Axes>"
            ],
            "image/png": "[encoded data removed]"
          },
          "metadata": {}
        },
        {
          "output_type": "display_data",
          "data": {
            "text/plain": [
              "<Figure size 640x480 with 1 Axes>"
            ],
            "image/png": "[encoded data removed]"
          },
          "metadata": {}
        }
      ]
    },
    {
      "cell_type": "markdown",
      "source": [
        "Pre trained model for comparison using VGG16\n",
        "\n"
      ],
      "metadata": {
        "id": "2QwrusKVKWzR"
      }
    },
    {
      "cell_type": "code",
      "source": [
        "import tensorflow as tf\n",
        "from tensorflow.keras.applications import VGG16\n",
        "from tensorflow.keras.layers import Dense, Flatten\n",
        "from tensorflow.keras.models import Model\n",
        "\n",
        "# Load pre-trained VGG16 model (excluding top/classification layers)\n",
        "base_model = VGG16(weights='imagenet', include_top=False, input_shape=(50, 50, 3))\n",
        "\n",
        "# Freeze pre-trained layers (optional)\n",
        "for layer in base_model.layers:\n",
        "    layer.trainable = False\n",
        "\n",
        "# Add new classification layers\n",
        "x = Flatten()(base_model.output)\n",
        "x = Dense(64, activation='relu')(x)\n",
        "predictions = Dense(1, activation='sigmoid')(x)  # Sigmoid activation for binary classification\n",
        "\n",
        "# Create a new model\n",
        "model = Model(inputs=base_model.input, outputs=predictions)\n",
        "\n",
        "# Compile the model\n",
        "model.compile(optimizer='adam', loss='binary_crossentropy', metrics=['accuracy'])\n",
        "\n",
        "# Train the model\n",
        "model.fit(X_train_normalized, y_train, epochs=10, batch_size=32, validation_data=(X_test_normalized, y_test))\n",
        "\n",
        "# Evaluate the model\n",
        "evaluation_results = model.evaluate(X_test_normalized, y_test)\n",
        "print(\"Test Loss:\", evaluation_results[0])\n",
        "print(\"Test Accuracy:\", evaluation_results[1])\n"
      ],
      "metadata": {
        "id": "SPz45M3YLKgh",
        "outputId": "32800f83-9726-4e29-c8f6-87601075fdec",
        "colab": {
          "base_uri": "https://localhost:8080/"
        }
      },
      "execution_count": null,
      "outputs": [
        {
          "output_type": "stream",
          "name": "stdout",
          "text": [
            "Downloading data from https://storage.googleapis.com/tensorflow/keras-applications/vgg16/vgg16_weights_tf_dim_ordering_tf_kernels_notop.h5\n",
            "58889256/58889256 [==============================] - 3s 0us/step\n",
            "Epoch 1/10\n",
            "162/162 [==============================] - 195s 1s/step - loss: -12.2130 - accuracy: 0.2477 - val_loss: -33.5671 - val_accuracy: 0.2623\n",
            "Epoch 2/10\n",
            "162/162 [==============================] - 192s 1s/step - loss: -73.2826 - accuracy: 0.2537 - val_loss: -128.3300 - val_accuracy: 0.2647\n",
            "Epoch 3/10\n",
            "162/162 [==============================] - 189s 1s/step - loss: -194.7835 - accuracy: 0.2539 - val_loss: -284.8142 - val_accuracy: 0.2670\n",
            "Epoch 4/10\n",
            "162/162 [==============================] - 192s 1s/step - loss: -376.7095 - accuracy: 0.2546 - val_loss: -501.6311 - val_accuracy: 0.2670\n",
            "Epoch 5/10\n",
            "162/162 [==============================] - 188s 1s/step - loss: -616.7401 - accuracy: 0.2550 - val_loss: -775.9128 - val_accuracy: 0.2677\n",
            "Epoch 6/10\n",
            "162/162 [==============================] - 187s 1s/step - loss: -911.3641 - accuracy: 0.2548 - val_loss: -1106.9114 - val_accuracy: 0.2677\n",
            "Epoch 7/10\n",
            "162/162 [==============================] - 194s 1s/step - loss: -1259.1302 - accuracy: 0.2550 - val_loss: -1491.8026 - val_accuracy: 0.2677\n",
            "Epoch 8/10\n",
            "162/162 [==============================] - 192s 1s/step - loss: -1657.7483 - accuracy: 0.2546 - val_loss: -1924.0177 - val_accuracy: 0.2677\n",
            "Epoch 9/10\n",
            "162/162 [==============================] - 191s 1s/step - loss: -2103.8750 - accuracy: 0.2550 - val_loss: -2410.3511 - val_accuracy: 0.2677\n",
            "Epoch 10/10\n",
            "162/162 [==============================] - ETA: 0s - loss: -2596.4270 - accuracy: 0.2550"
          ]
        }
      ]
    },
    {
      "cell_type": "code",
      "source": [
        "from sklearn.metrics import classification_report\n",
        "\n",
        "# Predict probabilities\n",
        "y_pred_proba = model.predict(X_test_normalized)\n",
        "# Convert probabilities to class labels\n",
        "y_pred = (y_pred_proba > 0.5).astype(int)\n",
        "# Generate classification report\n",
        "print(\"Classification Report:\")\n",
        "print(classification_report(y_test, y_pred))\n"
      ],
      "metadata": {
        "id": "iTrA9OmVLtNA"
      },
      "execution_count": null,
      "outputs": []
    },
    {
      "cell_type": "code",
      "source": [
        "import tensorflow as tf\n",
        "import numpy as np\n",
        "import pandas as pd\n",
        "import os\n",
        "from glob import glob\n",
        "import PIL\n",
        "from PIL import Image\n",
        "from sklearn.model_selection import train_test_split\n",
        "from sklearn.preprocessing import LabelEncoder\n",
        "from tensorflow.keras.models import Sequential\n",
        "from tensorflow.keras.layers import Conv2D, MaxPooling2D, Flatten, Dense\n",
        "\n",
        "# Load data\n",
        "root_path = '/content/drive/MyDrive/downloads/ISIC-images'\n",
        "data_dir_train = os.path.join(root_path, 'Train/Train-Images')\n",
        "data_dir_test = os.path.join(root_path, 'Test/Test-Images')\n",
        "\n",
        "# Load metadata\n",
        "train_metadata = pd.read_csv(os.path.join(data_dir_train, 'metadata.csv'))\n",
        "test_metadata = pd.read_csv(os.path.join(data_dir_test, 'metadata1.csv'))\n",
        "\n",
        "# Load images and labels\n",
        "train_images = []\n",
        "train_labels = []\n",
        "test_images = []\n",
        "test_labels = []\n",
        "\n",
        "def load_images_and_labels(data_dir, metadata, image_list, label_list, desired_width, desired_height):\n",
        "    for index, row in metadata.iterrows():\n",
        "        image_path = os.path.join(data_dir, row['isic_id'] + '.JPG')\n",
        "        image = Image.open(image_path)\n",
        "        image = image.resize((desired_width, desired_height))\n",
        "        image_array = np.array(image)\n",
        "        image_list.append(image_array)\n",
        "        label_list.append(row['benign_malignant'])\n",
        "\n",
        "desired_width = 50\n",
        "desired_height = 50\n",
        "\n",
        "load_images_and_labels(data_dir_train, train_metadata, train_images, train_labels, desired_width, desired_height)\n",
        "load_images_and_labels(data_dir_test, test_metadata, test_images, test_labels, desired_width, desired_height)\n",
        "\n",
        "# Convert lists to numpy arrays\n",
        "train_images = np.array(train_images)\n",
        "test_images = np.array(test_images)\n",
        "\n",
        "# Encode labels\n",
        "label_encoder = LabelEncoder()\n",
        "train_labels_encoded = label_encoder.fit_transform(train_labels)\n",
        "test_labels_encoded = label_encoder.transform(test_labels)\n",
        "\n",
        "# Split data into training and testing sets\n",
        "X_train, X_test, y_train, y_test = train_test_split(train_images, train_labels_encoded, test_size=0.2, random_state=42)\n",
        "\n",
        "# Define model architecture\n",
        "model = Sequential([\n",
        "    Conv2D(32, (3, 3), activation='relu', input_shape=(desired_width, desired_height, 3)),\n",
        "    MaxPooling2D((2, 2)),\n",
        "    Conv2D(64, (3, 3), activation='relu'),\n",
        "    MaxPooling2D((2, 2)),\n",
        "    Flatten(),\n",
        "    Dense(64, activation='relu'),\n",
        "    Dense(1, activation='sigmoid')\n",
        "])\n",
        "\n",
        "# Compile the model\n",
        "model.compile(optimizer='adam', loss='binary_crossentropy', metrics=['accuracy'])\n",
        "\n",
        "# Train the model\n",
        "model.fit(X_train, y_train, epochs=10, batch_size=32, validation_data=(X_test, y_test))\n",
        "\n",
        "# Evaluate the model\n",
        "evaluation_results = model.evaluate(test_images, test_labels_encoded)\n",
        "print(\"Test Loss:\", evaluation_results[0])\n",
        "print(\"Test Accuracy:\", evaluation_results[1])\n"
      ],
      "metadata": {
        "id": "JGXHfHDWObJj"
      },
      "execution_count": null,
      "outputs": []
    },
    {
      "cell_type": "code",
      "source": [
        "import tensorflow as tf\n",
        "import numpy as np\n",
        "import pandas as pd\n",
        "import os\n",
        "from glob import glob\n",
        "from PIL import Image\n",
        "from sklearn.model_selection import train_test_split\n",
        "from sklearn.preprocessing import LabelEncoder\n",
        "from tensorflow.keras.models import Sequential\n",
        "from tensorflow.keras.layers import Conv2D, MaxPooling2D, Flatten, Dense, Dropout, BatchNormalization\n",
        "from tensorflow.keras.preprocessing.image import ImageDataGenerator\n",
        "\n",
        "# Load images and labels function\n",
        "def load_images_and_labels(data_dir, metadata, desired_width, desired_height):\n",
        "    images = []\n",
        "    labels = []\n",
        "    for index, row in metadata.iterrows():\n",
        "        image_path = os.path.join(data_dir, row['isic_id'] + '.JPG')\n",
        "        image = Image.open(image_path)\n",
        "        image = image.resize((desired_width, desired_height))\n",
        "        image_array = np.array(image)\n",
        "        images.append(image_array)\n",
        "        labels.append(row['benign_malignant'])\n",
        "    return np.array(images), labels\n",
        "\n",
        "# Load and preprocess data\n",
        "root_path = '/content/drive/MyDrive/downloads/ISIC-images'\n",
        "data_dir_train = os.path.join(root_path, 'Train/Train-Images')\n",
        "data_dir_test = os.path.join(root_path, 'Test/Test-Images')\n",
        "\n",
        "train_metadata = pd.read_csv(os.path.join(data_dir_train, 'metadata.csv'))\n",
        "test_metadata = pd.read_csv(os.path.join(data_dir_test, 'metadata1.csv'))\n",
        "\n",
        "desired_width = 50\n",
        "desired_height = 50\n",
        "\n",
        "train_images, train_labels = load_images_and_labels(data_dir_train, train_metadata, desired_width, desired_height)\n",
        "test_images, test_labels = load_images_and_labels(data_dir_test, test_metadata, desired_width, desired_height)\n",
        "\n",
        "# Encode labels\n",
        "label_encoder = LabelEncoder()\n",
        "train_labels_encoded = label_encoder.fit_transform(train_labels)\n",
        "test_labels_encoded = label_encoder.transform(test_labels)\n",
        "\n",
        "# Split data into training and validation sets\n",
        "X_train, X_test, y_train, y_test = train_test_split(train_images, train_labels_encoded, test_size=0.2, random_state=42)\n",
        "\n",
        "# Data augmentation setup\n",
        "train_datagen = ImageDataGenerator(\n",
        "    rescale=1./255,\n",
        "    rotation_range=40,\n",
        "    width_shift_range=0.2,\n",
        "    height_shift_range=0.2,\n",
        "    shear_range=0.2,\n",
        "    zoom_range=0.2,\n",
        "    horizontal_flip=True,\n",
        "    fill_mode='nearest')\n",
        "\n",
        "test_datagen = ImageDataGenerator(rescale=1./255)\n",
        "\n",
        "# Create data generators\n",
        "train_generator = train_datagen.flow(X_train, y_train, batch_size=32)\n",
        "validation_generator = test_datagen.flow(X_test, y_test, batch_size=32)\n",
        "\n",
        "# Normalize the images\n",
        "train_images = train_images / 255.0\n",
        "test_images = test_images / 255.0\n",
        "\n",
        "# Encode labels with LabelEncoder that includes all possible labels\n",
        "label_encoder = LabelEncoder()\n",
        "all_labels = np.concatenate((train_labels, test_labels))  # Combine all labels for fitting\n",
        "label_encoder.fit(all_labels)\n",
        "\n",
        "# Encode the labels into integers\n",
        "train_labels_encoded = label_encoder.transform(train_labels)\n",
        "test_labels_encoded = label_encoder.transform(test_labels)\n",
        "\n",
        "# Define the CNN model\n",
        "model = Sequential([\n",
        "    Conv2D(32, (3, 3), activation='relu', input_shape=(50, 50, 3)),  # Adjust the input shape based on your actual image size\n",
        "    MaxPooling2D((2, 2)),\n",
        "    BatchNormalization(),\n",
        "    Conv2D(64, (3, 3), activation='relu'),\n",
        "    MaxPooling2D((2, 2)),\n",
        "    BatchNormalization(),\n",
        "    Conv2D(128, (3, 3), activation='relu'),\n",
        "    MaxPooling2D((2, 2)),\n",
        "    Flatten(),\n",
        "    Dropout(0.5),\n",
        "    Dense(64, activation='relu'),\n",
        "    BatchNormalization(),\n",
        "    Dense(len(np.unique(all_labels)), activation='softmax')  # Output layer adjusted for number of classes\n",
        "])\n",
        "\n",
        "# Compile the model\n",
        "model.compile(optimizer='adam', loss='sparse_categorical_crossentropy', metrics=['accuracy'])\n",
        "\n",
        "# Training the model\n",
        "model.fit(train_images, train_labels_encoded, epochs=20, batch_size=32, validation_split=0.2)\n",
        "\n",
        "# Evaluate the model\n",
        "evaluation_results = model.evaluate(test_images, test_labels_encoded)\n",
        "print(\"Test Loss:\", evaluation_results[0])\n",
        "print(\"Test Accuracy:\", evaluation_results[1])\n",
        "\n"
      ],
      "metadata": {
        "id": "y9Zc8Yq29o7n"
      },
      "execution_count": null,
      "outputs": []
    },
    {
      "cell_type": "code",
      "source": [
        "import numpy as np\n",
        "from sklearn.metrics import classification_report, confusion_matrix\n",
        "import seaborn as sns\n",
        "import matplotlib.pyplot as plt\n",
        "\n",
        "# Normalize the test images (if not already normalized)\n",
        "normalized_test_images = test_images / 255.0\n",
        "\n",
        "# Predict classes with the model\n",
        "predictions = model.predict(normalized_test_images)\n",
        "predicted_classes = np.argmax(predictions, axis=1)\n",
        "\n",
        "# Identifying unique labels present in the test set\n",
        "unique_labels_in_test = np.unique(test_labels_encoded)\n",
        "target_names = [label_encoder.classes_[i] for i in unique_labels_in_test]\n",
        "\n",
        "# Calculate and print the classification report\n",
        "print(\"\\nClassification Report:\")\n",
        "report = classification_report(test_labels_encoded, predicted_classes, labels=unique_labels_in_test, target_names=target_names)\n",
        "print(report)\n",
        "\n",
        "# Generate and print the confusion matrix\n",
        "cm = confusion_matrix(test_labels_encoded, predicted_classes, labels=unique_labels_in_test)\n",
        "print(\"\\nConfusion Matrix:\")\n",
        "print(cm)\n",
        "\n",
        "# Visualization of the confusion matrix\n",
        "plt.figure(figsize=(10, 8))\n",
        "sns.heatmap(cm, annot=True, fmt='d', cmap='Blues', xticklabels=target_names, yticklabels=target_names)\n",
        "plt.xlabel('Predicted Labels')\n",
        "plt.ylabel('True Labels')\n",
        "plt.title('Confusion Matrix')\n",
        "plt.show()\n"
      ],
      "metadata": {
        "id": "F11xB2EEQTge"
      },
      "execution_count": null,
      "outputs": []
    },
    {
      "cell_type": "code",
      "source": [],
      "metadata": {
        "id": "nVdr7ozmRPZP"
      },
      "execution_count": null,
      "outputs": []
    }
  ]
}